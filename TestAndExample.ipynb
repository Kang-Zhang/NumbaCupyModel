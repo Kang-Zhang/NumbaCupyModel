{
 "cells": [
  {
   "cell_type": "markdown",
   "metadata": {},
   "source": [
    "**下面这部分为测试CUDA device_array的可操作性**"
   ]
  },
  {
   "cell_type": "code",
   "execution_count": 31,
   "metadata": {},
   "outputs": [
    {
     "name": "stdout",
     "output_type": "stream",
     "text": [
      "[[ 5.  5.  5.  5.  5.]\n",
      " [ 5.  5.  5.  5.  5.]\n",
      " [ 5.  5.  5.  5.  5.]\n",
      " [ 5.  5.  5.  5.  5.]\n",
      " [ 5.  5.  5.  5.  5.]]\n",
      "<numba.cuda.cudadrv.devicearray.DeviceNDArray object at 0x00000173CF98AC88>\n",
      "[0 1 0 3 4]\n",
      "[0 1 2 3 4 5 6 7 8 9]\n",
      "<numba.cuda.cudadrv.devicearray.DeviceNDArray object at 0x00000173CF998CC0>\n",
      "[100 101 102 103   4   5   6   7   8   9]\n",
      "int32\n"
     ]
    }
   ],
   "source": [
    "from numba import jit,prange,cuda,vectorize,float32,float64 #牢记prange也要导入\n",
    "import numba\n",
    "import numpy as np\n",
    "\n",
    "a_device=cuda.device_array(shape=(5,5),dtype=np.float32)\n",
    "b_device=cuda.device_array(shape=(5,5),dtype=np.float32)\n",
    "a_device=a_device+np.float32(5.0)\n",
    "#要点：CUDA的GPU array不支持直接的数学运算，必须写kernel来执行。若直接进行数学运算，CUDA的GPU array会被拷贝至CPU，然后再执行运算，这样效率很低\n",
    "print(a_device)\n",
    "\n",
    "a_device=cuda.to_device(np.arange(5))\n",
    "b_device=cuda.to_device(np.zeros(5))\n",
    "print(b_device)\n",
    "a_device[2]=b_device[0]\n",
    "#要点：CUDA的GPU array支持用一个GPU array给另一个GPU array赋值，赋值过程依然在GPU上完成\n",
    "a_host=a_device.copy_to_host()\n",
    "print(a_host)\n",
    "\n",
    "ary=np.arange(10)\n",
    "print(ary)\n",
    "d_ary=cuda.to_device(ary)\n",
    "d_ary[0:4]=np.array([100,101,102,103],dtype=np.float32)\n",
    "#要点：CUDA的GPU array支持根据索引（包括切片操作）赋值，但是会将赋入的值的数据类型直接强制转换到GPU array的数据类型，赋值过程依然在GPU上完成\n",
    "print(d_ary)\n",
    "hary=d_ary.copy_to_host()\n",
    "print(hary)\n",
    "print(numba.typeof(hary[0]))"
   ]
  },
  {
   "cell_type": "markdown",
   "metadata": {},
   "source": [
    "**以下为测试使用numba的随机数生成器给2D array赋值**\n",
    "\n",
    "**测试结果：numba的随机数生成器在array尺寸很大时很糟糕**"
   ]
  },
  {
   "cell_type": "code",
   "execution_count": 1,
   "metadata": {},
   "outputs": [],
   "source": [
    "from numba.cuda.random import create_xoroshiro128p_states, xoroshiro128p_normal_float32\n",
    "from numba import jit,prange,cuda,vectorize,float32,float64 #牢记prange也要导入\n",
    "import numpy as np\n",
    "import math\n",
    "\n",
    "@cuda.jit\n",
    "def kernel_noise(rng_states,MatA):\n",
    "    x=cuda.threadIdx.x+cuda.blockIdx.x*cuda.blockDim.x\n",
    "    y=cuda.threadIdx.y+cuda.blockIdx.y*cuda.blockDim.y\n",
    "    offset=x+y*cuda.blockDim.x*cuda.gridDim.x\n",
    "    if offset<MatA.shape[0]*MatA.shape[1]:\n",
    "        MatA[offset]=xoroshiro128p_normal_float32(rng_states,offset)"
   ]
  },
  {
   "cell_type": "code",
   "execution_count": 2,
   "metadata": {},
   "outputs": [],
   "source": [
    "a=np.empty(shape=(128,128),dtype=np.float32)\n",
    "a_device=cuda.to_device(a)\n",
    "#a_device=cuda.device_array(shape=(128,128),dtype=np.float32)"
   ]
  },
  {
   "cell_type": "code",
   "execution_count": 3,
   "metadata": {},
   "outputs": [],
   "source": [
    "threadsperblock=(32,32) #要点：这个设定要根据显卡类型决定！我目前的显卡的block内的线程只能支持到32\n",
    "blockspergrid_x=math.ceil(a.shape[0]/threadsperblock[0])\n",
    "blockspergrid_y=math.ceil(a.shape[1]/threadsperblock[1])\n",
    "blockspergrid=(blockspergrid_x,blockspergrid_y)\n",
    "rng_states=create_xoroshiro128p_states(blockspergrid_x*threadsperblock[0]*blockspergrid_y*threadsperblock[1], seed=1)"
   ]
  },
  {
   "cell_type": "code",
   "execution_count": 4,
   "metadata": {},
   "outputs": [],
   "source": [
    "kernel_noise[blockspergrid,threadsperblock](rng_states,a_device)"
   ]
  },
  {
   "cell_type": "markdown",
   "metadata": {},
   "source": [
    "**以下为将numpy array保存为二进制文件和读取二进制文件的示例代码**"
   ]
  },
  {
   "cell_type": "code",
   "execution_count": 1,
   "metadata": {},
   "outputs": [],
   "source": [
    "import numpy as np\n",
    "a=np.arange(4096*4096)\n",
    "a.shape=(4096,4096)\n",
    "#print(a.dtype)\n",
    "filename1='test'+'.bin'\n",
    "filename2='test'+'.txt'\n",
    "#a.tofile(filename)\n",
    "#c=np.fromfile(filename,dtype=np.int32)\n",
    "#c.shape=(3,3)"
   ]
  },
  {
   "cell_type": "code",
   "execution_count": 2,
   "metadata": {},
   "outputs": [
    {
     "name": "stdout",
     "output_type": "stream",
     "text": [
      "259 ms ± 6.68 ms per loop (mean ± std. dev. of 7 runs, 1 loop each)\n"
     ]
    }
   ],
   "source": [
    "%timeit a.tofile(filename1) #还是这种方式快，特别是在存大尺寸矩阵时！"
   ]
  },
  {
   "cell_type": "code",
   "execution_count": 3,
   "metadata": {},
   "outputs": [
    {
     "name": "stdout",
     "output_type": "stream",
     "text": [
      "7.69 s ± 608 ms per loop (mean ± std. dev. of 7 runs, 1 loop each)\n"
     ]
    }
   ],
   "source": [
    "%timeit np.savetxt(filename2,a)"
   ]
  },
  {
   "cell_type": "markdown",
   "metadata": {},
   "source": [
    "**以下为按顺序保存文件的示例代码，注意str.zfill这个字符method的运用**"
   ]
  },
  {
   "cell_type": "code",
   "execution_count": 11,
   "metadata": {},
   "outputs": [
    {
     "name": "stdout",
     "output_type": "stream",
     "text": [
      "000001_1.bin\n",
      "000002_1.bin\n",
      "000003_1.bin\n",
      "000004_1.bin\n",
      "000005_1.bin\n"
     ]
    }
   ],
   "source": [
    "c1=0\n",
    "for i in range(5):\n",
    "    c1+=1\n",
    "    filename1=str(c1).zfill(6)+'_1.bin'\n",
    "    print(filename1)"
   ]
  },
  {
   "cell_type": "markdown",
   "metadata": {},
   "source": [
    "**以下为按顺序循环读取文件的示例代码**"
   ]
  },
  {
   "cell_type": "code",
   "execution_count": 4,
   "metadata": {},
   "outputs": [
    {
     "name": "stdout",
     "output_type": "stream",
     "text": [
      "00001_0_0.bin\n",
      "00002_0_0.bin\n",
      "00003_0_0.bin\n",
      "00004_0_0.bin\n",
      "00005_0_0.bin\n",
      "00006_0_0.bin\n",
      "00007_0_0.bin\n",
      "00008_0_0.bin\n",
      "00009_0_0.bin\n",
      "00010_0_0.bin\n",
      "00011_0_0.bin\n",
      "00001_1_0.bin\n",
      "00002_1_0.bin\n",
      "00003_1_0.bin\n",
      "00004_1_0.bin\n",
      "00005_1_0.bin\n",
      "00006_1_0.bin\n",
      "00007_1_0.bin\n",
      "00008_1_0.bin\n",
      "00009_1_0.bin\n",
      "00010_1_0.bin\n",
      "00011_1_0.bin\n",
      "00001_2_0.bin\n",
      "00002_2_0.bin\n",
      "00003_2_0.bin\n",
      "00004_2_0.bin\n",
      "00005_2_0.bin\n",
      "00006_2_0.bin\n",
      "00007_2_0.bin\n",
      "00008_2_0.bin\n",
      "00009_2_0.bin\n",
      "00010_2_0.bin\n",
      "00011_2_0.bin\n",
      "00001_3_0.bin\n",
      "00002_3_0.bin\n",
      "00003_3_0.bin\n",
      "00004_3_0.bin\n",
      "00005_3_0.bin\n",
      "00006_3_0.bin\n",
      "00007_3_0.bin\n",
      "00008_3_0.bin\n",
      "00009_3_0.bin\n",
      "00010_3_0.bin\n",
      "00011_3_0.bin\n",
      "00001_4_0.bin\n",
      "00002_4_0.bin\n",
      "00003_4_0.bin\n",
      "00004_4_0.bin\n",
      "00005_4_0.bin\n",
      "00006_4_0.bin\n",
      "00007_4_0.bin\n",
      "00008_4_0.bin\n",
      "00009_4_0.bin\n",
      "00010_4_0.bin\n",
      "00011_4_0.bin\n",
      "00001_5_0.bin\n",
      "00002_5_0.bin\n",
      "00003_5_0.bin\n",
      "00004_5_0.bin\n",
      "00005_5_0.bin\n",
      "00006_5_0.bin\n",
      "00007_5_0.bin\n",
      "00008_5_0.bin\n",
      "00009_5_0.bin\n",
      "00010_5_0.bin\n",
      "00011_5_0.bin\n",
      "00001_6_0.bin\n",
      "00002_6_0.bin\n",
      "00003_6_0.bin\n",
      "00004_6_0.bin\n",
      "00005_6_0.bin\n",
      "00006_6_0.bin\n",
      "00007_6_0.bin\n",
      "00008_6_0.bin\n",
      "00009_6_0.bin\n",
      "00010_6_0.bin\n",
      "00011_6_0.bin\n",
      "00001_7_0.bin\n",
      "00002_7_0.bin\n",
      "00003_7_0.bin\n",
      "00004_7_0.bin\n",
      "00005_7_0.bin\n",
      "00006_7_0.bin\n",
      "00007_7_0.bin\n",
      "00008_7_0.bin\n",
      "00009_7_0.bin\n",
      "00010_7_0.bin\n",
      "00011_7_0.bin\n",
      "00001_8_0.bin\n",
      "00002_8_0.bin\n",
      "00003_8_0.bin\n",
      "00004_8_0.bin\n",
      "00005_8_0.bin\n",
      "00006_8_0.bin\n",
      "00007_8_0.bin\n",
      "00008_8_0.bin\n",
      "00009_8_0.bin\n",
      "00010_8_0.bin\n",
      "00011_8_0.bin\n",
      "00001_9_0.bin\n",
      "00002_9_0.bin\n",
      "00003_9_0.bin\n",
      "00004_9_0.bin\n",
      "00005_9_0.bin\n",
      "00006_9_0.bin\n",
      "00007_9_0.bin\n",
      "00008_9_0.bin\n",
      "00009_9_0.bin\n",
      "00010_9_0.bin\n",
      "00011_9_0.bin\n",
      "00001_10_0.bin\n",
      "00002_10_0.bin\n",
      "00003_10_0.bin\n",
      "00004_10_0.bin\n",
      "00005_10_0.bin\n",
      "00006_10_0.bin\n",
      "00007_10_0.bin\n",
      "00008_10_0.bin\n",
      "00009_10_0.bin\n",
      "00010_10_0.bin\n",
      "00011_10_0.bin\n",
      "00001_11_0.bin\n",
      "00002_11_0.bin\n",
      "00003_11_0.bin\n",
      "00004_11_0.bin\n",
      "00005_11_0.bin\n",
      "00006_11_0.bin\n",
      "00007_11_0.bin\n",
      "00008_11_0.bin\n",
      "00009_11_0.bin\n",
      "00010_11_0.bin\n",
      "00011_11_0.bin\n"
     ]
    }
   ],
   "source": [
    "import numpy as np\n",
    "\n",
    "#data=np.empty((1001,1024,1024),dtype=np.float32)\n",
    "for i in range(0,12):\n",
    "    data=np.empty((1001,1024,1024),dtype=np.float32)\n",
    "    for j in range(1,12):\n",
    "        filename = '%05d_%d_0.bin'%(j,i) #j对应05d，其中05d中0表示位数不够时前面用0补，5表示5位，d表示数字。i对应d，d表示数字，表示没有特定格式\n",
    "        print(filename)\n",
    "        c=np.fromfile(filename,dtype=np.float32)\n",
    "        c.shape=(1024,1024)\n",
    "        data[j-1,:,:]=c\n",
    "#      data.append(np.reshape(c,(1024,1024))) #用.append()这个method实现array在第三维上（时间维）的合并\n",
    "    \n",
    "#data = np.array(ans)"
   ]
  },
  {
   "cell_type": "code",
   "execution_count": 26,
   "metadata": {},
   "outputs": [],
   "source": [
    "import numpy as np\n",
    "\n",
    "data=np.empty((13,1024,1024),dtype=np.float32) #每个case生成一个空矩阵，这里假设在下面的文件夹内只有1个case以及相应的13个model result\n",
    "for i in range(0,13):\n",
    "    path = 'D:\\\\testdir/' #\\后为t时需要两个\\\\，不然会被理解成换行符，类似的还有n，其他字母可用单斜杠\n",
    "    file = '%05d_%d_0.bin'%(1,i)\n",
    "    filename = path + file\n",
    "    temp = np.fromfile(filename,dtype=np.float32)\n",
    "    temp.shape = (1024,1024)\n",
    "    data[i,:,:] = temp"
   ]
  },
  {
   "cell_type": "code",
   "execution_count": 27,
   "metadata": {},
   "outputs": [
    {
     "data": {
      "image/png": "[encoded data removed]",
      "text/plain": [
       "<Figure size 432x288 with 1 Axes>"
      ]
     },
     "metadata": {
      "needs_background": "light"
     },
     "output_type": "display_data"
    }
   ],
   "source": [
    "import matplotlib.pyplot as plt\n",
    "plt.contourf(data[6,:,:])\n",
    "plt.show()"
   ]
  },
  {
   "cell_type": "markdown",
   "metadata": {},
   "source": [
    "**以下为利用OS操作文件的示例代码**"
   ]
  },
  {
   "cell_type": "code",
   "execution_count": 12,
   "metadata": {},
   "outputs": [
    {
     "name": "stdout",
     "output_type": "stream",
     "text": [
      "file1.py\n",
      "file2.csv\n",
      "file3.txt\n"
     ]
    }
   ],
   "source": [
    "import os\n",
    "\n",
    "# entries = os.listdir('D:\\my_directory/') #老版本python返回指定路径文件夹内文件序列的命令\n",
    "entries = os.scandir('D:\\my_directory/') #新版本python返回指定路径文件夹内文件序列的命令，返回了一个可用于迭代的迭代器\n",
    "#<nt.ScandirIterator object at 0x00000207A9E45C60>\n",
    "for entry in entries: #读取文件名\n",
    "    if entry.is_file(): #判断是否为文件，将子文件夹排除\n",
    "        print(entry.name) \n",
    "os.mkdir('D:\\example_directory/') #在指定路径创建文件夹"
   ]
  },
  {
   "cell_type": "markdown",
   "metadata": {},
   "source": [
    "**以下结合matlab的例子测试numpy的ifft2与matlab的ifft2的差异**\n",
    "**测试结果：numpy的ifft2与matlab的ifft2采用的算法不同，numpy的ifft2结果相比于matlab的ifft2结果会多一个虚数部分，在实际应用时可直接忽略numpy的ifft2结果中的虚数部分**"
   ]
  },
  {
   "cell_type": "code",
   "execution_count": 2,
   "metadata": {},
   "outputs": [
    {
     "name": "stdout",
     "output_type": "stream",
     "text": [
      "[[ 1  2  3  4]\n",
      " [ 5  6  7  8]\n",
      " [ 9 10 11 12]\n",
      " [ 5  3  6  9]]\n",
      "[[ 101. +0.j   -7.+12.j   -7. +0.j   -7.-12.j]\n",
      " [ -32. -3.j   -4. +1.j    0. +1.j    4. +1.j]\n",
      " [   3. +0.j   -1. -4.j   -1. +0.j   -1. +4.j]\n",
      " [ -32. +3.j    4. -1.j    0. -1.j   -4. -1.j]]\n",
      "[[  1.02010000e+04   1.93000000e+02   4.90000000e+01   1.93000000e+02]\n",
      " [  1.03300000e+03   1.70000000e+01   1.00000000e+00   1.70000000e+01]\n",
      " [  9.00000000e+00   1.70000000e+01   1.00000000e+00   1.70000000e+01]\n",
      " [  1.03300000e+03   1.70000000e+01   1.00000000e+00   1.70000000e+01]]\n",
      "[[  0.00000000e+00   1.93000000e+02   4.90000000e+01   1.93000000e+02]\n",
      " [  1.03300000e+03   1.70000000e+01   1.00000000e+00   1.70000000e+01]\n",
      " [  9.00000000e+00   1.70000000e+01   1.00000000e+00   1.70000000e+01]\n",
      " [  1.03300000e+03   1.70000000e+01   1.00000000e+00   1.70000000e+01]]\n",
      "[[-147.5625+0.j -131.5625+0.j -103.5625+0.j -131.5625+0.j]\n",
      " [ -19.5625+0.j   -3.5625+0.j   24.4375+0.j   -3.5625+0.j]\n",
      " [ 102.4375+0.j  126.4375+0.j  163.4375+0.j  126.4375+0.j]\n",
      " [ -19.5625+0.j   -3.5625+0.j   24.4375+0.j   -3.5625+0.j]]\n"
     ]
    }
   ],
   "source": [
    "import numpy as np\n",
    "from scipy import interpolate\n",
    "\n",
    "O=np.array([[1,2,3,4],[5,6,7,8],[9,10,11,12],[5,3,6,9]])\n",
    "print(O)\n",
    "A=np.fft.fft2(O)\n",
    "print(A)\n",
    "B=np.power(np.absolute(A),2) \n",
    "print(B)\n",
    "B[0,0]=0 \n",
    "print(B)\n",
    "C=np.fft.fftshift(np.fft.ifft2(B))\n",
    "print(C)\n",
    "#X=np.arange(-3,3)\n",
    "#Y=np.arange(-3,3)\n",
    "#Fcircle=interpolate.interp2d(X,Y,C,kind='linear')"
   ]
  },
  {
   "cell_type": "code",
   "execution_count": 4,
   "metadata": {},
   "outputs": [
    {
     "name": "stdout",
     "output_type": "stream",
     "text": [
      "[[[-0.0223253  -1.540457   -1.24955913]\n",
      "  [-1.22203364 -0.85450359  1.49795829]\n",
      "  [-0.95657672 -0.83692037 -0.1982353 ]]\n",
      "\n",
      " [[-1.47149751  0.4079488  -1.36159134]\n",
      "  [-0.13266783  1.69355388  1.66845258]\n",
      "  [ 0.37226142 -0.41729746  0.0490074 ]]\n",
      "\n",
      " [[-0.21784167 -1.54119483 -0.77927389]\n",
      "  [-1.82346134  0.83325883  0.4776453 ]\n",
      "  [ 0.60941533  1.3556699   0.13571079]]\n",
      "\n",
      " [[-0.82593637 -1.58262984  1.45504124]\n",
      "  [-0.94827419  0.22200764 -1.05283611]\n",
      "  [ 1.16682058  0.50116945  0.82512045]]\n",
      "\n",
      " [[ 1.08581921  0.55522719  0.63445089]\n",
      "  [-0.9875015  -1.30933053 -1.70459528]\n",
      "  [ 0.71257126  0.73626956  0.53313909]]]\n",
      "[[[-1.47149751  0.4079488  -1.36159134]\n",
      "  [-0.13266783  1.69355388  1.66845258]\n",
      "  [ 0.37226142 -0.41729746  0.0490074 ]]\n",
      "\n",
      " [[-0.21784167 -1.54119483 -0.77927389]\n",
      "  [-1.82346134  0.83325883  0.4776453 ]\n",
      "  [ 0.60941533  1.3556699   0.13571079]]\n",
      "\n",
      " [[-0.82593637 -1.58262984  1.45504124]\n",
      "  [-0.94827419  0.22200764 -1.05283611]\n",
      "  [ 1.16682058  0.50116945  0.82512045]]\n",
      "\n",
      " [[ 1.08581921  0.55522719  0.63445089]\n",
      "  [-0.9875015  -1.30933053 -1.70459528]\n",
      "  [ 0.71257126  0.73626956  0.53313909]]]\n"
     ]
    }
   ],
   "source": [
    "import numpy as np\n",
    "\n",
    "A=np.random.randn(5,3,3)\n",
    "print(A)\n",
    "B=np.delete(A,0,axis=0)\n",
    "print(B)"
   ]
  }
 ],
 "metadata": {
  "kernelspec": {
   "display_name": "Python 3",
   "language": "python",
   "name": "python3"
  },
  "language_info": {
   "codemirror_mode": {
    "name": "ipython",
    "version": 3
   },
   "file_extension": ".py",
   "mimetype": "text/x-python",
   "name": "python",
   "nbconvert_exporter": "python",
   "pygments_lexer": "ipython3",
   "version": "3.6.8"
  }
 },
 "nbformat": 4,
 "nbformat_minor": 2
}

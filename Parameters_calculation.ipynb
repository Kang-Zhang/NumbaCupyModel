{
 "cells": [
  {
   "cell_type": "code",
   "execution_count": 3,
   "metadata": {},
   "outputs": [],
   "source": [
    "from numba import jit,prange\n",
    "import numpy as np\n",
    "import math\n",
    "from scipy import interpolate"
   ]
  },
  {
   "cell_type": "code",
   "execution_count": 2,
   "metadata": {},
   "outputs": [],
   "source": [
    "@jit(nopython=True)\n",
    "def Orderparameter(data):\n",
    "#    输入：data为向量，存储着瞬时磁场，向量的长度为总取样数，即瞬时磁场的个数\n",
    "#    输出：OP为一个数字，在相应温度下的平均磁场强度\n",
    "    OP=np.sum(data)/data.shape[0]\n",
    "    return OP"
   ]
  },
  {
   "cell_type": "code",
   "execution_count": 3,
   "metadata": {},
   "outputs": [],
   "source": [
    "@jit(nopython=True)\n",
    "def Susceptibility_orderparameter(data,T,M,N):\n",
    "#    输入：data为向量，存储着瞬时磁场，向量的长度为总取样数，即瞬时磁场的个数\n",
    "#         T为一个数字，为Ising模型的温度，若为非Ising model，则取T=1\n",
    "#         M,N分别为一个数字，是模型的空间大小\n",
    "#    输出：SusOP为一个数字，在相应温度下的平均磁场强度\n",
    "    k=1  #Boltamann常数\n",
    "    beta=1/(k*T) \n",
    "    SusOP=beta*M*N*(np.sum(data*data)/data.shape[0]-np.power(np.sum(data)/data.shape[0],2)) \n",
    "    return SusOP"
   ]
  },
  {
   "cell_type": "code",
   "execution_count": 4,
   "metadata": {},
   "outputs": [],
   "source": [
    "@jit(nopython=True)\n",
    "def N_std(data):\n",
    "#    计算诸如磁场这类均值与方差不相关的物理量的error的算法——直接计算标准差，这里计算的是磁场强度的error\n",
    "#    输入：data为向量，存储着瞬时磁场，向量的长度为总取样数，即瞬时磁场的个数\n",
    "#    输出：OPstd为一个数字，为data内所存物理量的标准偏差\n",
    "    OPstd=np.std(data)\n",
    "    return OPstd"
   ]
  },
  {
   "cell_type": "code",
   "execution_count": 5,
   "metadata": {},
   "outputs": [],
   "source": [
    "@jit(nopython=True,parallel=True)\n",
    "def jackknife_SusOP(data,T,M,N):\n",
    "#    计算诸如比热容、敏感性（磁化率）这类均值与方差相关的物理量的error时采用jackknife算法，这里计算敏感性（磁化率，Susceptibility）的error\n",
    "#    输入：data为向量，存储着瞬时磁场或瞬时能量，向量的长度为总取样数，即瞬时磁场的个数\n",
    "#         T为一个数字，为Ising模型的温度，若为非Ising model，则取T=1\n",
    "#         M,N分别为一个数字，是模型的空间大小\n",
    "#    输出：SusOPstd为一个数字，为物理量的error\n",
    "    SusOP=Susceptibility_orderparameter(data,T,M,N)\n",
    "    Num=data.shape[0]\n",
    "    dataOri=data\n",
    "    SusOPsub=np.empty(shape=(Num,)) #设置向量时必须用类似（5,）来表达，若用（5,1）则还是二维数组\n",
    "    for i in prange(Num):\n",
    "        data=np.delete(data,i) #删除向量的某一元素\n",
    "        SusOPsub[i]=Susceptibility_orderparameter(data,T,M,N)\n",
    "        data=dataOri\n",
    "    SusOPstd=math.sqrt(np.sum(np.power(SusOPsub-SusOP,2)))\n",
    "    return SusOPstd"
   ]
  },
  {
   "cell_type": "code",
   "execution_count": 6,
   "metadata": {},
   "outputs": [],
   "source": [
    "def jackknife_R(model,R): #输入模型空间构型的所有瞬态，即下面的configdata\n",
    "#    计算诸如比热容、敏感性（磁化率）这类均值与方差相关的物理量的error时采用jackknife算法，这里计算相关长度（Correlation_length）的error\n",
    "#    输入:model为三维array，第一维存储时间序列，第二和第三位存储空间维度——即行和列\n",
    "#         method为1个数字，1表示使用单个0分量，2表示使用4个等效0分量\n",
    "#        R为Correlation_length，为一个标量\n",
    "#    输出:Rstd为一个数，为Correlation_length的error\n",
    "    SamNum,M,N=model.shape #SamNum为时间序列的采样数，M为空间行数，N为空间列数\n",
    "    modelOri=model\n",
    "    Rsub=np.empty(shape=(SamNum,))\n",
    "    for i in range(SamNum):\n",
    "        model=np.delete(model,i,axis=0) #删除三维array在时间维上的切片\n",
    "        Rsub[i]=Correlation_length(Correlation_function(model,1))\n",
    "        model=modelOri\n",
    "    Rstd=math.sqrt(np.sum(np.power(Rsub-R,2)))\n",
    "    return Rstd"
   ]
  },
  {
   "cell_type": "code",
   "execution_count": 7,
   "metadata": {},
   "outputs": [],
   "source": [
    "@jit(nopython=True,parallel=True)\n",
    "def Fluctuation_space(model,data,situ):\n",
    "#    适用范围：适用于具有周期性边界条件的二维Ising类模型和二维动力学模型在空间上的涨落分析，计算了尺度涨落。\n",
    "#    输入：model为矩阵，存储模型的瞬时状态；\n",
    "#         data为矩阵，为model在空间上3*3的扩展，这是由于目前版本的numba(0.44)不支持numpy.tile这个函数\n",
    "#         situ表示输入模型的类型，“1”表示Ising类统计物理模型（1与-1两个状态），“2”表示动力学模型（数值连续）。       \n",
    "#    过程输出：fluctuate为向量，存储取样框内所统计的物理量的热力学涨落的计算结果；(暂时废弃)\n",
    "#         average为向量，存储取样框内所统计的物理量的均值；(暂时废弃)\n",
    "#         fluctuateS为向量，存储取样框内所统计的物理量的尺度涨落的计算结果；\n",
    "#         scale为向量，存储取样方框的尺寸。\n",
    "#    最后输出：Slop为涨落指数\n",
    "    M1,N1=model.shape\n",
    "#    data=np.tile(model,(3,3)) #将model按3*3的构型复制9次，但是目前版本的numba(0.44)不支持numpy.tile，所以需要在主程序里添加这一步骤\n",
    "    MaxSize=math.floor(min(M1,N1)/2) #决定取样框的最大尺寸 \n",
    "    fluctuateS=np.empty(shape=(MaxSize,)) \n",
    "    average=np.empty(shape=(MaxSize,)) \n",
    "    avar=np.empty(shape=(MaxSize,))\n",
    "    scale=np.arange(1,MaxSize+1)  #取样框尺寸的变化范围\n",
    "    Total=M1*N1 \n",
    "    if Total<=5000:\n",
    "        Total=Total #扔框的次数\n",
    "    elif Total>5000:\n",
    "        Total=5000  #扔框的次数\n",
    "    if situ==1:\n",
    "        xup,yup=np.where(model==1) #np.where类似于matlab的find函数，返回符合条件的array的元素的行号与列号\n",
    "        xdown,ydown=np.where(model==-1)\n",
    "        TotNumUp=xup.shape[0]\n",
    "        TotNumDown=xdown.shape[0]\n",
    "        if TotNumUp>=TotNumDown: #统计向上（1）的spin的数量\n",
    "            obj=1 \n",
    "        elif TotNumUp<TotNumDown: #统计向下（-1）的spin的数量\n",
    "            obj=-1 \n",
    "    for i1 in prange(1,MaxSize+1):\n",
    "        Sample=np.empty(shape=(Total,)) \n",
    "        Area=i1*i1 \n",
    "        for i2 in prange(Total):\n",
    "            Index1=np.random.randint(low=M1+1,high=2*M1+1,size=1) #注意：这两行随机数生成的代码分别返回的是一个元素的array。\n",
    "            Index2=np.random.randint(low=N1+1,high=2*N1+1,size=1) \n",
    "            tempdata=data[Index1[0]:Index1[0]+i1,Index2[0]:Index2[0]+i1] #注意：array不能直接放入这里的切片中，必须将元素取出来为一个数放入切片中\n",
    "            if situ==1: #spin类，比如Ising model\n",
    "                x1,y1=np.where(tempdata==obj)\n",
    "                Sample[i2]=x1.shape[0]/Area \n",
    "            elif situ==2: #动力学模型类，比如Ricker model\n",
    "                Sample[i2]=np.sum(tempdata)/Area \n",
    "        average[i1-1]=np.mean(Sample) \n",
    "        avar[i1-1]=np.var(Sample) \n",
    "    fluctuateS=avar/(average*average) #尺度算法计算涨落\n",
    "#    P=np.polyfit(np.log(scale),np.log(fluctuateS),1) #取对数后进行一阶线性拟合，但是numba目前的版本（0.43）不支持numpy.polyfit\n",
    "#    Slop=P[0]\n",
    "    return fluctuateS,scale"
   ]
  },
  {
   "cell_type": "code",
   "execution_count": 8,
   "metadata": {},
   "outputs": [],
   "source": [
    "def Correlation_function(model,method):\n",
    "#    输入:model为三维array，第一维存储时间序列，第二和第三位存储空间维度——即行和列\n",
    "#         method为1个数字，1表示使用单个0分量，2表示使用4个等效0分量\n",
    "#    输出：GF为一个向量，为相应温度下空间两点间的相关性函数\n",
    "\n",
    "#    利用傅里叶变换计算卷积\n",
    "    SamNum,M,N=model.shape #SamNum为时间序列的采样数，M为空间行数，N为空间列数\n",
    "    Cum=np.zeros((M,N))\n",
    "    phi=np.arange(1,101)/100*2*math.pi\n",
    "    Size=math.floor(min(M,N)/2) \n",
    "    GF=np.zeros((Size,))\n",
    "    modelY=np.empty((SamNum,M,N),dtype=complex) #预设data type为复数\n",
    "    modelC=np.empty((SamNum,M,N))\n",
    "    for i in range(SamNum):\n",
    "        modelY[i,:,:]=np.fft.fft2(model[i,:,:]) #目前版本的numba（0.44）还不支持numpy.fft模块！\n",
    "        modelC[i,:,:]=np.power(np.absolute(modelY[i,:,:]),2) \n",
    "        Cum=Cum+modelC[i,:,:] \n",
    "    GK=Cum/(SamNum*M*N) \n",
    "    if method==1: #认为fftshit后0分量在中心\n",
    "        X=np.arange(-M/2,M/2)\n",
    "        Y=np.arange(-N/2,N/2)\n",
    "#        X,Y=np.meshgrid(XX,YY) \n",
    "        GK[0,0]=0 \n",
    "        GR=np.fft.fftshift(np.fft.ifft2(GK)) #numpy的ifft2的结果会包含虚数部分，在应用时可直接将结果中的虚数部分忽略，只采用实数部分的结果。\n",
    "        Fcircle=interpolate.interp2d(X,Y,GR,kind='cubic') #创建interpolate.interp2d这个class的一个实例。这里与matlab里的interp2不同，不需要输入一个meshgrid好的网格\n",
    "        for j in range(Size):\n",
    "            GF[j]=np.mean(Fcircle((j+1)*np.cos(phi),(j+1)*np.sin(phi))) #使用插值实例进行计算，由于返回的是一个array，所以需要整体的求平均\n",
    "    elif method==2: #认为fftshit后0分量不在中心，而是4个分量构成中心\n",
    "        X=np.concatenate((np.arange(-M/2,0),np.arange(1,M/2+1))) #与append类似的可将两个array合并的函数\n",
    "        Y=np.concatenate((np.arange(-N/2,0),np.arange(1,N/2+1)))\n",
    "#        X,Y=np.meshgrid(XX,YY)\n",
    "        GK[0,0]=0 \n",
    "        GK[M-1,0]=0 \n",
    "        GK[0,N-1]=0 \n",
    "        GK[M-1,N-1]=0 \n",
    "        GR=np.fft.fftshift(np.fft.ifft2(GK))\n",
    "        Fcircle=interpolate.interp2d(X,Y,GR,kind='cubic')\n",
    "        for j in range(Size):\n",
    "            GF[j]=np.mean(Fcircle((j+1)*np.cos(phi)-0.5,(j+1)*np.sin(phi)-0.5))\n",
    "    return GF"
   ]
  },
  {
   "cell_type": "code",
   "execution_count": 9,
   "metadata": {},
   "outputs": [],
   "source": [
    "def Correlation_length(GF): #这个方法对任意输入的GF并不好，因为有的相关性并达不到0.368，而且这种插值方式导致一个x对应2个y，即插值失败！\n",
    "#    ！！！Correlation_length的这个函数需要重写！！！\n",
    "#    输入:GF是一个向量，为相关性函数（G函数）\n",
    "#    输出：R是一个数，为相关长度\n",
    "    Size,=GF.shape #GF的长度若为5，则Size=5\n",
    "    Scale=np.arange(Size) #接上面，从0到4\n",
    "    GF_log=np.log(GF)\n",
    "    Scale_log=np.log(Scale)\n",
    "    interp_point=-1\n",
    "    R_log=np.interp(interp_point,GF_log,Scale_log) #目前版本的numba（0.44）还不支持numpy.interp模块，貌似是因为不支持numpy.inner函数\n",
    "    R=np.exp(R_log)\n",
    "    return R"
   ]
  },
  {
   "cell_type": "markdown",
   "metadata": {},
   "source": [
    "**Below:calculate the traditional statisical physical indexes**"
   ]
  },
  {
   "cell_type": "code",
   "execution_count": 10,
   "metadata": {},
   "outputs": [],
   "source": [
    "def process_data():\n",
    "    NumOfCase=74\n",
    "    NumOfSam=1001\n",
    "    M=1024\n",
    "    N=1024\n",
    "    Size=math.floor(min(M,N)/2)\n",
    "    OP=np.empty((NumOfCase,),dtype=np.float32)\n",
    "    SusOP=np.empty((NumOfCase,),dtype=np.float32)\n",
    "    GF=np.empty((NumOfCase,Size),dtype=np.float32)\n",
    "    R=np.empty((NumOfCase,),dtype=np.float32)\n",
    "    PreS=np.empty((NumOfCase,),dtype=np.float32)\n",
    "    PostS=np.empty((NumOfCase,),dtype=np.float32)\n",
    "    SS=np.empty((NumOfCase,),dtype=np.float32)\n",
    "    for i in range(NumOfCase):\n",
    "        predata=np.empty((NumOfSam,M,N),dtype=np.float32)\n",
    "        postdata=np.empty((NumOfSam,M,N),dtype=np.float32)\n",
    "        configdata=np.empty((NumOfSam,M,N),dtype=np.float32)\n",
    "        configspin=np.empty((NumOfSam,M,N),dtype=np.float32)\n",
    "        magneticdata=np.empty((NumOfSam,),dtype=np.float32)\n",
    "        preslop=np.empty((NumOfSam,),dtype=np.float32)\n",
    "        postslop=np.empty((NumOfSam,),dtype=np.float32)\n",
    "        spinslop=np.empty((NumOfSam,),dtype=np.float32)\n",
    "        for j in range(NumOfSam):\n",
    "            path='/home/user/ModelResult/Ricker2D/'\n",
    "            prefile='%03d_%05d_0.bin'%(i,j)\n",
    "            postfile='%03d_%05d_1.bin'%(i,j)\n",
    "            prefilename=path+prefile\n",
    "            postfilename=path+postfile\n",
    "            pretemp=np.fromfile(prefilename,dtype=np.float32)\n",
    "            pretemp.shape=(M,N)\n",
    "            predata[j,:,:]=pretemp #存储着模型每个采样点前一时刻的模型瞬态\n",
    "            posttemp=np.fromfile(postfilename,dtype=np.float32)\n",
    "            posttemp.shape=(M,N)\n",
    "            postdata[j,:,:]=posttemp #存储着模型每个采样点后一时刻的模型瞬态\n",
    "            configdata[j,:,:]=0.5*np.power(-1,j)*(postdata[j,:,:]-predata[j,:,:]) #存储着每个时刻类似瞬时磁场空间构型的矩阵\n",
    "            magneticdata[j]=np.absolute(np.sum(configdata[j,:,:]))/(M*N) #存储着每个时刻类似瞬时磁场强度的标量\n",
    "        OP[i]=Orderparameter(magneticdata)        \n",
    "        SusOP[i]=Susceptibility_orderparameter(magneticdata,1,M,N)\n",
    "#        GF[i,:]=Correlation_function(configdata,1)\n",
    "#        R[i]=Correlation_length(GF[i,:])        \n",
    "    return OP,SusOP,GF,R"
   ]
  },
  {
   "cell_type": "code",
   "execution_count": 11,
   "metadata": {},
   "outputs": [],
   "source": [
    "OP,SusOP,GF,R=process_data()"
   ]
  },
  {
   "cell_type": "code",
   "execution_count": 13,
   "metadata": {},
   "outputs": [
    {
     "data": {
      "image/png": "[encoded data removed]",
      "text/plain": [
       "<Figure size 432x288 with 1 Axes>"
      ]
     },
     "metadata": {
      "needs_background": "light"
     },
     "output_type": "display_data"
    },
    {
     "data": {
      "image/png": "[encoded data removed]",
      "text/plain": [
       "<Figure size 432x288 with 1 Axes>"
      ]
     },
     "metadata": {
      "needs_background": "light"
     },
     "output_type": "display_data"
    }
   ],
   "source": [
    "import matplotlib.pyplot as plt\n",
    "\n",
    "StartB=np.float32(0.12) #初始噪音强度\n",
    "EndB=np.float32(0.18) #终止噪音强度\n",
    "Loop=np.linspace(StartB,EndB,num=64,dtype=np.float32)\n",
    "RealLoop=np.concatenate((Loop[0:17],np.linspace(Loop[18],Loop[28],num=23,dtype=np.float32),Loop[29:63]))\n",
    "f1=plt.figure(1)\n",
    "plt.plot(RealLoop,OP,'-*')\n",
    "plt.show()\n",
    "f2=plt.figure(2)\n",
    "plt.plot(RealLoop,SusOP,'-*')\n",
    "plt.show()\n",
    "#f3=plt.figure(3)\n",
    "#plt.plot(RealLoop,R,'-*')\n",
    "#plt.show()"
   ]
  },
  {
   "cell_type": "markdown",
   "metadata": {},
   "source": [
    "**Below:calculate the scale-dependent fluctuation**"
   ]
  },
  {
   "cell_type": "code",
   "execution_count": 11,
   "metadata": {},
   "outputs": [],
   "source": [
    "def process_data():\n",
    "    NumOfCase=74\n",
    "    NumOfSam=1 #currently. prcocess the first sample of the model results\n",
    "    M=1024\n",
    "    N=1024\n",
    "    Size=math.floor(min(M,N)/2)\n",
    "    OP=np.empty((NumOfCase,),dtype=np.float32)\n",
    "    SusOP=np.empty((NumOfCase,),dtype=np.float32)\n",
    "    GF=np.empty((NumOfCase,Size),dtype=np.float32)\n",
    "    R=np.empty((NumOfCase,),dtype=np.float32)\n",
    "    PreS=np.empty((NumOfCase,),dtype=np.float32)\n",
    "    PostS=np.empty((NumOfCase,),dtype=np.float32)\n",
    "    SS=np.empty((NumOfCase,),dtype=np.float32)\n",
    "    for i in range(NumOfCase):\n",
    "        predata=np.empty((NumOfSam,M,N),dtype=np.float32)\n",
    "        postdata=np.empty((NumOfSam,M,N),dtype=np.float32)\n",
    "        configdata=np.empty((NumOfSam,M,N),dtype=np.float32)\n",
    "        configspin=np.empty((NumOfSam,M,N),dtype=np.float32)\n",
    "        magneticdata=np.empty((NumOfSam,),dtype=np.float32)\n",
    "        preslop=np.empty((NumOfSam,),dtype=np.float32)\n",
    "        postslop=np.empty((NumOfSam,),dtype=np.float32)\n",
    "        spinslop=np.empty((NumOfSam,),dtype=np.float32)\n",
    "        for j in range(NumOfSam):\n",
    "            path='/home/user/ModelResult/Ricker2D/'\n",
    "            prefile='%03d_%05d_0.bin'%(i,j)\n",
    "            postfile='%03d_%05d_1.bin'%(i,j)\n",
    "            prefilename=path+prefile\n",
    "            postfilename=path+postfile\n",
    "            pretemp=np.fromfile(prefilename,dtype=np.float32)\n",
    "            pretemp.shape=(M,N)\n",
    "            predata[j,:,:]=pretemp #存储着模型每个采样点前一时刻的模型瞬态\n",
    "            predatatemp=np.tile(predata[j,:,:],(3,3)) #把model的空间构型扩大为3*3的构型\n",
    "            fluctuateS,scale=Fluctuation_space(predata[j,:,:],predatatemp,2)\n",
    "            P=np.polyfit(np.log(scale),np.log(fluctuateS),1)\n",
    "            preslop[j]=P[0]\n",
    "            posttemp=np.fromfile(postfilename,dtype=np.float32)\n",
    "            posttemp.shape=(M,N)\n",
    "            postdata[j,:,:]=posttemp #存储着模型每个采样点后一时刻的模型瞬态\n",
    "            postdatatemp=np.tile(postdata[j,:,:],(3,3))\n",
    "            fluctuateS,scale=Fluctuation_space(postdata[j,:,:],postdatatemp,2)\n",
    "            P=np.polyfit(np.log(scale),np.log(fluctuateS),1)\n",
    "            postslop[j]=P[0]\n",
    "            configdata[j,:,:]=0.5*np.power(-1,j)*(postdata[j,:,:]-predata[j,:,:]) #存储着每个时刻类似瞬时磁场空间构型的矩阵\n",
    "            configspin[j,:,:]=np.where(configdata[j,:,:]>0,1,-1) #将configdata的结果转换为Ising的spin结构，大于0的赋值为1，不大于0的赋值为-1\n",
    "            spintemp=np.tile(configspin[j,:,:],(3,3))\n",
    "            fluctuateS,scale=Fluctuation_space(configspin[j,:,:],spintemp,1)\n",
    "            P=np.polyfit(np.log(scale),np.log(fluctuateS),1)\n",
    "            spinslop[j]=P[0]\n",
    "#            magneticdata[j]=np.absolute(np.sum(configdata[j,:,:]))/(M*N) #存储着每个时刻类似瞬时磁场强度的标量\n",
    "\n",
    "#        OP[i]=Orderparameter(magneticdata)        \n",
    "#        SusOP[i]=Susceptibility_orderparameter(magneticdata,1,M,N)\n",
    "#        GF[i,:]=Correlation_function(configdata,1)\n",
    "#        R[i]=Correlation_length(GF[i,:])\n",
    "        \n",
    "        PreS[i]=np.mean(preslop)\n",
    "        PostS[i]=np.mean(postslop)\n",
    "        SS[i]=np.mean(spinslop)\n",
    "        \n",
    "#        OP[0]=Orderparameter(magneticdata)        \n",
    "#        SusOP[0]=Susceptibility_orderparameter(magneticdata,1,M,N)\n",
    "#        GF[0,:]=Correlation_function(configdata,1)\n",
    "#        R[0]=Correlation_length(GF[0,:])\n",
    "#    return OP,SusOP,GF,R\n",
    "    return PreS,PostS,SS"
   ]
  },
  {
   "cell_type": "code",
   "execution_count": 12,
   "metadata": {},
   "outputs": [
    {
     "ename": "LinAlgError",
     "evalue": "SVD did not converge in Linear Least Squares",
     "output_type": "error",
     "traceback": [
      "\u001b[0;31m---------------------------------------------------------------------------\u001b[0m",
      "\u001b[0;31mLinAlgError\u001b[0m                               Traceback (most recent call last)",
      "\u001b[0;32m<ipython-input-12-56cfc71ffc63>\u001b[0m in \u001b[0;36m<module>\u001b[0;34m\u001b[0m\n\u001b[0;32m----> 1\u001b[0;31m \u001b[0mPreS\u001b[0m\u001b[0;34m,\u001b[0m\u001b[0mPostS\u001b[0m\u001b[0;34m,\u001b[0m\u001b[0mSS\u001b[0m\u001b[0;34m=\u001b[0m\u001b[0mprocess_data\u001b[0m\u001b[0;34m(\u001b[0m\u001b[0;34m)\u001b[0m\u001b[0;34m\u001b[0m\u001b[0;34m\u001b[0m\u001b[0m\n\u001b[0m",
      "\u001b[0;32m<ipython-input-11-ee6bdea6fd4c>\u001b[0m in \u001b[0;36mprocess_data\u001b[0;34m()\u001b[0m\n\u001b[1;32m     32\u001b[0m             \u001b[0mpredatatemp\u001b[0m\u001b[0;34m=\u001b[0m\u001b[0mnp\u001b[0m\u001b[0;34m.\u001b[0m\u001b[0mtile\u001b[0m\u001b[0;34m(\u001b[0m\u001b[0mpredata\u001b[0m\u001b[0;34m[\u001b[0m\u001b[0mj\u001b[0m\u001b[0;34m,\u001b[0m\u001b[0;34m:\u001b[0m\u001b[0;34m,\u001b[0m\u001b[0;34m:\u001b[0m\u001b[0;34m]\u001b[0m\u001b[0;34m,\u001b[0m\u001b[0;34m(\u001b[0m\u001b[0;36m3\u001b[0m\u001b[0;34m,\u001b[0m\u001b[0;36m3\u001b[0m\u001b[0;34m)\u001b[0m\u001b[0;34m)\u001b[0m \u001b[0;31m#把model的空间构型扩大为3*3的构型\u001b[0m\u001b[0;34m\u001b[0m\u001b[0;34m\u001b[0m\u001b[0m\n\u001b[1;32m     33\u001b[0m             \u001b[0mfluctuateS\u001b[0m\u001b[0;34m,\u001b[0m\u001b[0mscale\u001b[0m\u001b[0;34m=\u001b[0m\u001b[0mFluctuation_space\u001b[0m\u001b[0;34m(\u001b[0m\u001b[0mpredata\u001b[0m\u001b[0;34m[\u001b[0m\u001b[0mj\u001b[0m\u001b[0;34m,\u001b[0m\u001b[0;34m:\u001b[0m\u001b[0;34m,\u001b[0m\u001b[0;34m:\u001b[0m\u001b[0;34m]\u001b[0m\u001b[0;34m,\u001b[0m\u001b[0mpredatatemp\u001b[0m\u001b[0;34m,\u001b[0m\u001b[0;36m2\u001b[0m\u001b[0;34m)\u001b[0m\u001b[0;34m\u001b[0m\u001b[0;34m\u001b[0m\u001b[0m\n\u001b[0;32m---> 34\u001b[0;31m             \u001b[0mP\u001b[0m\u001b[0;34m=\u001b[0m\u001b[0mnp\u001b[0m\u001b[0;34m.\u001b[0m\u001b[0mpolyfit\u001b[0m\u001b[0;34m(\u001b[0m\u001b[0mnp\u001b[0m\u001b[0;34m.\u001b[0m\u001b[0mlog\u001b[0m\u001b[0;34m(\u001b[0m\u001b[0mscale\u001b[0m\u001b[0;34m)\u001b[0m\u001b[0;34m,\u001b[0m\u001b[0mnp\u001b[0m\u001b[0;34m.\u001b[0m\u001b[0mlog\u001b[0m\u001b[0;34m(\u001b[0m\u001b[0mfluctuateS\u001b[0m\u001b[0;34m)\u001b[0m\u001b[0;34m,\u001b[0m\u001b[0;36m1\u001b[0m\u001b[0;34m)\u001b[0m\u001b[0;34m\u001b[0m\u001b[0;34m\u001b[0m\u001b[0m\n\u001b[0m\u001b[1;32m     35\u001b[0m             \u001b[0mpreslop\u001b[0m\u001b[0;34m[\u001b[0m\u001b[0mj\u001b[0m\u001b[0;34m]\u001b[0m\u001b[0;34m=\u001b[0m\u001b[0mP\u001b[0m\u001b[0;34m[\u001b[0m\u001b[0;36m0\u001b[0m\u001b[0;34m]\u001b[0m\u001b[0;34m\u001b[0m\u001b[0;34m\u001b[0m\u001b[0m\n\u001b[1;32m     36\u001b[0m             \u001b[0mposttemp\u001b[0m\u001b[0;34m=\u001b[0m\u001b[0mnp\u001b[0m\u001b[0;34m.\u001b[0m\u001b[0mfromfile\u001b[0m\u001b[0;34m(\u001b[0m\u001b[0mpostfilename\u001b[0m\u001b[0;34m,\u001b[0m\u001b[0mdtype\u001b[0m\u001b[0;34m=\u001b[0m\u001b[0mnp\u001b[0m\u001b[0;34m.\u001b[0m\u001b[0mfloat32\u001b[0m\u001b[0;34m)\u001b[0m\u001b[0;34m\u001b[0m\u001b[0;34m\u001b[0m\u001b[0m\n",
      "\u001b[0;32m~/anaconda3/lib/python3.7/site-packages/numpy/lib/polynomial.py\u001b[0m in \u001b[0;36mpolyfit\u001b[0;34m(x, y, deg, rcond, full, w, cov)\u001b[0m\n\u001b[1;32m    626\u001b[0m     \u001b[0mscale\u001b[0m \u001b[0;34m=\u001b[0m \u001b[0mNX\u001b[0m\u001b[0;34m.\u001b[0m\u001b[0msqrt\u001b[0m\u001b[0;34m(\u001b[0m\u001b[0;34m(\u001b[0m\u001b[0mlhs\u001b[0m\u001b[0;34m*\u001b[0m\u001b[0mlhs\u001b[0m\u001b[0;34m)\u001b[0m\u001b[0;34m.\u001b[0m\u001b[0msum\u001b[0m\u001b[0;34m(\u001b[0m\u001b[0maxis\u001b[0m\u001b[0;34m=\u001b[0m\u001b[0;36m0\u001b[0m\u001b[0;34m)\u001b[0m\u001b[0;34m)\u001b[0m\u001b[0;34m\u001b[0m\u001b[0;34m\u001b[0m\u001b[0m\n\u001b[1;32m    627\u001b[0m     \u001b[0mlhs\u001b[0m \u001b[0;34m/=\u001b[0m \u001b[0mscale\u001b[0m\u001b[0;34m\u001b[0m\u001b[0;34m\u001b[0m\u001b[0m\n\u001b[0;32m--> 628\u001b[0;31m     \u001b[0mc\u001b[0m\u001b[0;34m,\u001b[0m \u001b[0mresids\u001b[0m\u001b[0;34m,\u001b[0m \u001b[0mrank\u001b[0m\u001b[0;34m,\u001b[0m \u001b[0ms\u001b[0m \u001b[0;34m=\u001b[0m \u001b[0mlstsq\u001b[0m\u001b[0;34m(\u001b[0m\u001b[0mlhs\u001b[0m\u001b[0;34m,\u001b[0m \u001b[0mrhs\u001b[0m\u001b[0;34m,\u001b[0m \u001b[0mrcond\u001b[0m\u001b[0;34m)\u001b[0m\u001b[0;34m\u001b[0m\u001b[0;34m\u001b[0m\u001b[0m\n\u001b[0m\u001b[1;32m    629\u001b[0m     \u001b[0mc\u001b[0m \u001b[0;34m=\u001b[0m \u001b[0;34m(\u001b[0m\u001b[0mc\u001b[0m\u001b[0;34m.\u001b[0m\u001b[0mT\u001b[0m\u001b[0;34m/\u001b[0m\u001b[0mscale\u001b[0m\u001b[0;34m)\u001b[0m\u001b[0;34m.\u001b[0m\u001b[0mT\u001b[0m  \u001b[0;31m# broadcast scale coefficients\u001b[0m\u001b[0;34m\u001b[0m\u001b[0;34m\u001b[0m\u001b[0m\n\u001b[1;32m    630\u001b[0m \u001b[0;34m\u001b[0m\u001b[0m\n",
      "\u001b[0;32m~/anaconda3/lib/python3.7/site-packages/numpy/linalg/linalg.py\u001b[0m in \u001b[0;36mlstsq\u001b[0;34m(a, b, rcond)\u001b[0m\n\u001b[1;32m   2234\u001b[0m         \u001b[0;31m# lapack can't handle n_rhs = 0 - so allocate the array one larger in that axis\u001b[0m\u001b[0;34m\u001b[0m\u001b[0;34m\u001b[0m\u001b[0;34m\u001b[0m\u001b[0m\n\u001b[1;32m   2235\u001b[0m         \u001b[0mb\u001b[0m \u001b[0;34m=\u001b[0m \u001b[0mzeros\u001b[0m\u001b[0;34m(\u001b[0m\u001b[0mb\u001b[0m\u001b[0;34m.\u001b[0m\u001b[0mshape\u001b[0m\u001b[0;34m[\u001b[0m\u001b[0;34m:\u001b[0m\u001b[0;34m-\u001b[0m\u001b[0;36m2\u001b[0m\u001b[0;34m]\u001b[0m \u001b[0;34m+\u001b[0m \u001b[0;34m(\u001b[0m\u001b[0mm\u001b[0m\u001b[0;34m,\u001b[0m \u001b[0mn_rhs\u001b[0m \u001b[0;34m+\u001b[0m \u001b[0;36m1\u001b[0m\u001b[0;34m)\u001b[0m\u001b[0;34m,\u001b[0m \u001b[0mdtype\u001b[0m\u001b[0;34m=\u001b[0m\u001b[0mb\u001b[0m\u001b[0;34m.\u001b[0m\u001b[0mdtype\u001b[0m\u001b[0;34m)\u001b[0m\u001b[0;34m\u001b[0m\u001b[0;34m\u001b[0m\u001b[0m\n\u001b[0;32m-> 2236\u001b[0;31m     \u001b[0mx\u001b[0m\u001b[0;34m,\u001b[0m \u001b[0mresids\u001b[0m\u001b[0;34m,\u001b[0m \u001b[0mrank\u001b[0m\u001b[0;34m,\u001b[0m \u001b[0ms\u001b[0m \u001b[0;34m=\u001b[0m \u001b[0mgufunc\u001b[0m\u001b[0;34m(\u001b[0m\u001b[0ma\u001b[0m\u001b[0;34m,\u001b[0m \u001b[0mb\u001b[0m\u001b[0;34m,\u001b[0m \u001b[0mrcond\u001b[0m\u001b[0;34m,\u001b[0m \u001b[0msignature\u001b[0m\u001b[0;34m=\u001b[0m\u001b[0msignature\u001b[0m\u001b[0;34m,\u001b[0m \u001b[0mextobj\u001b[0m\u001b[0;34m=\u001b[0m\u001b[0mextobj\u001b[0m\u001b[0;34m)\u001b[0m\u001b[0;34m\u001b[0m\u001b[0;34m\u001b[0m\u001b[0m\n\u001b[0m\u001b[1;32m   2237\u001b[0m     \u001b[0;32mif\u001b[0m \u001b[0mm\u001b[0m \u001b[0;34m==\u001b[0m \u001b[0;36m0\u001b[0m\u001b[0;34m:\u001b[0m\u001b[0;34m\u001b[0m\u001b[0;34m\u001b[0m\u001b[0m\n\u001b[1;32m   2238\u001b[0m         \u001b[0mx\u001b[0m\u001b[0;34m[\u001b[0m\u001b[0;34m...\u001b[0m\u001b[0;34m]\u001b[0m \u001b[0;34m=\u001b[0m \u001b[0;36m0\u001b[0m\u001b[0;34m\u001b[0m\u001b[0;34m\u001b[0m\u001b[0m\n",
      "\u001b[0;32m~/anaconda3/lib/python3.7/site-packages/numpy/linalg/linalg.py\u001b[0m in \u001b[0;36m_raise_linalgerror_lstsq\u001b[0;34m(err, flag)\u001b[0m\n\u001b[1;32m    107\u001b[0m \u001b[0;34m\u001b[0m\u001b[0m\n\u001b[1;32m    108\u001b[0m \u001b[0;32mdef\u001b[0m \u001b[0m_raise_linalgerror_lstsq\u001b[0m\u001b[0;34m(\u001b[0m\u001b[0merr\u001b[0m\u001b[0;34m,\u001b[0m \u001b[0mflag\u001b[0m\u001b[0;34m)\u001b[0m\u001b[0;34m:\u001b[0m\u001b[0;34m\u001b[0m\u001b[0;34m\u001b[0m\u001b[0m\n\u001b[0;32m--> 109\u001b[0;31m     \u001b[0;32mraise\u001b[0m \u001b[0mLinAlgError\u001b[0m\u001b[0;34m(\u001b[0m\u001b[0;34m\"SVD did not converge in Linear Least Squares\"\u001b[0m\u001b[0;34m)\u001b[0m\u001b[0;34m\u001b[0m\u001b[0;34m\u001b[0m\u001b[0m\n\u001b[0m\u001b[1;32m    110\u001b[0m \u001b[0;34m\u001b[0m\u001b[0m\n\u001b[1;32m    111\u001b[0m \u001b[0;32mdef\u001b[0m \u001b[0mget_linalg_error_extobj\u001b[0m\u001b[0;34m(\u001b[0m\u001b[0mcallback\u001b[0m\u001b[0;34m)\u001b[0m\u001b[0;34m:\u001b[0m\u001b[0;34m\u001b[0m\u001b[0;34m\u001b[0m\u001b[0m\n",
      "\u001b[0;31mLinAlgError\u001b[0m: SVD did not converge in Linear Least Squares"
     ]
    }
   ],
   "source": [
    "PreS,PostS,SS=process_data()"
   ]
  },
  {
   "cell_type": "code",
   "execution_count": 13,
   "metadata": {},
   "outputs": [
    {
     "ename": "NameError",
     "evalue": "name 'PreS' is not defined",
     "output_type": "error",
     "traceback": [
      "\u001b[0;31m---------------------------------------------------------------------------\u001b[0m",
      "\u001b[0;31mNameError\u001b[0m                                 Traceback (most recent call last)",
      "\u001b[0;32m<ipython-input-13-974785e1ba5d>\u001b[0m in \u001b[0;36m<module>\u001b[0;34m\u001b[0m\n\u001b[1;32m      6\u001b[0m \u001b[0mRealLoop\u001b[0m\u001b[0;34m=\u001b[0m\u001b[0mnp\u001b[0m\u001b[0;34m.\u001b[0m\u001b[0mconcatenate\u001b[0m\u001b[0;34m(\u001b[0m\u001b[0;34m(\u001b[0m\u001b[0mLoop\u001b[0m\u001b[0;34m[\u001b[0m\u001b[0;36m0\u001b[0m\u001b[0;34m:\u001b[0m\u001b[0;36m17\u001b[0m\u001b[0;34m]\u001b[0m\u001b[0;34m,\u001b[0m\u001b[0mnp\u001b[0m\u001b[0;34m.\u001b[0m\u001b[0mlinspace\u001b[0m\u001b[0;34m(\u001b[0m\u001b[0mLoop\u001b[0m\u001b[0;34m[\u001b[0m\u001b[0;36m18\u001b[0m\u001b[0;34m]\u001b[0m\u001b[0;34m,\u001b[0m\u001b[0mLoop\u001b[0m\u001b[0;34m[\u001b[0m\u001b[0;36m28\u001b[0m\u001b[0;34m]\u001b[0m\u001b[0;34m,\u001b[0m\u001b[0mnum\u001b[0m\u001b[0;34m=\u001b[0m\u001b[0;36m23\u001b[0m\u001b[0;34m,\u001b[0m\u001b[0mdtype\u001b[0m\u001b[0;34m=\u001b[0m\u001b[0mnp\u001b[0m\u001b[0;34m.\u001b[0m\u001b[0mfloat32\u001b[0m\u001b[0;34m)\u001b[0m\u001b[0;34m,\u001b[0m\u001b[0mLoop\u001b[0m\u001b[0;34m[\u001b[0m\u001b[0;36m29\u001b[0m\u001b[0;34m:\u001b[0m\u001b[0;36m63\u001b[0m\u001b[0;34m]\u001b[0m\u001b[0;34m)\u001b[0m\u001b[0;34m)\u001b[0m\u001b[0;34m\u001b[0m\u001b[0;34m\u001b[0m\u001b[0m\n\u001b[1;32m      7\u001b[0m \u001b[0mf1\u001b[0m\u001b[0;34m=\u001b[0m\u001b[0mplt\u001b[0m\u001b[0;34m.\u001b[0m\u001b[0mfigure\u001b[0m\u001b[0;34m(\u001b[0m\u001b[0;36m1\u001b[0m\u001b[0;34m)\u001b[0m\u001b[0;34m\u001b[0m\u001b[0;34m\u001b[0m\u001b[0m\n\u001b[0;32m----> 8\u001b[0;31m \u001b[0mplt\u001b[0m\u001b[0;34m.\u001b[0m\u001b[0mplot\u001b[0m\u001b[0;34m(\u001b[0m\u001b[0mRealLoop\u001b[0m\u001b[0;34m,\u001b[0m\u001b[0mPreS\u001b[0m\u001b[0;34m,\u001b[0m\u001b[0;34m'-*'\u001b[0m\u001b[0;34m)\u001b[0m\u001b[0;34m\u001b[0m\u001b[0;34m\u001b[0m\u001b[0m\n\u001b[0m\u001b[1;32m      9\u001b[0m \u001b[0mplt\u001b[0m\u001b[0;34m.\u001b[0m\u001b[0mshow\u001b[0m\u001b[0;34m(\u001b[0m\u001b[0;34m)\u001b[0m\u001b[0;34m\u001b[0m\u001b[0;34m\u001b[0m\u001b[0m\n\u001b[1;32m     10\u001b[0m \u001b[0mf2\u001b[0m\u001b[0;34m=\u001b[0m\u001b[0mplt\u001b[0m\u001b[0;34m.\u001b[0m\u001b[0mfigure\u001b[0m\u001b[0;34m(\u001b[0m\u001b[0;36m2\u001b[0m\u001b[0;34m)\u001b[0m\u001b[0;34m\u001b[0m\u001b[0;34m\u001b[0m\u001b[0m\n",
      "\u001b[0;31mNameError\u001b[0m: name 'PreS' is not defined"
     ]
    }
   ],
   "source": [
    "import matplotlib.pyplot as plt\n",
    "\n",
    "StartB=np.float32(0.12) #初始噪音强度\n",
    "EndB=np.float32(0.18) #终止噪音强度\n",
    "Loop=np.linspace(StartB,EndB,num=64,dtype=np.float32)\n",
    "RealLoop=np.concatenate((Loop[0:17],np.linspace(Loop[18],Loop[28],num=23,dtype=np.float32),Loop[29:63]))\n",
    "f1=plt.figure(1)\n",
    "plt.plot(RealLoop,PreS,'-*')\n",
    "plt.show()\n",
    "f2=plt.figure(2)\n",
    "plt.plot(RealLoop,PostS,'-*')\n",
    "plt.show()\n",
    "f3=plt.figure(3)\n",
    "plt.plot(RealLoop,SS,'-*')\n",
    "plt.show()"
   ]
  },
  {
   "cell_type": "markdown",
   "metadata": {},
   "source": [
    "**Below:test the time required for calculating the scale-dependent fluctuation of 3 samples**"
   ]
  },
  {
   "cell_type": "code",
   "execution_count": 13,
   "metadata": {},
   "outputs": [
    {
     "name": "stdout",
     "output_type": "stream",
     "text": [
      "16min 31s ± 10.4 s per loop (mean ± std. dev. of 7 runs, 1 loop each)\n"
     ]
    }
   ],
   "source": [
    "%timeit PreS,PostS,SS=process_data() #测试运算3个尺寸涨落的例子所需的时间，每个例子大概5min多点"
   ]
  },
  {
   "cell_type": "markdown",
   "metadata": {},
   "source": [
    "**Below:vertify if the results of Ricker2D model contain inf and/or nan**"
   ]
  },
  {
   "cell_type": "code",
   "execution_count": 4,
   "metadata": {},
   "outputs": [
    {
     "name": "stdout",
     "output_type": "stream",
     "text": [
      "2\n",
      "3\n"
     ]
    }
   ],
   "source": [
    "data=np.array([1,np.nan,2,np.inf,3,np.nan,np.inf,np.inf])\n",
    "print(np.isnan(data).sum())\n",
    "print(np.isinf(data).sum())"
   ]
  },
  {
   "cell_type": "code",
   "execution_count": 4,
   "metadata": {},
   "outputs": [],
   "source": [
    "def is_nan_inf():\n",
    "    NumOfCase=74\n",
    "    NumOfSam=1001 #currently. prcocess the first sample of the model results\n",
    "    M=1024\n",
    "    N=1024\n",
    "    prenannum=np.empty((NumOfCase,NumOfSam),dtype=np.float32) \n",
    "    preinfnum=np.empty((NumOfCase,NumOfSam),dtype=np.float32)\n",
    "    postnannum=np.empty((NumOfCase,NumOfSam),dtype=np.float32)\n",
    "    postinfnum=np.empty((NumOfCase,NumOfSam),dtype=np.float32)\n",
    "    for i in range(NumOfCase):\n",
    "        predata=np.empty((NumOfSam,M,N),dtype=np.float32)\n",
    "        postdata=np.empty((NumOfSam,M,N),dtype=np.float32)\n",
    "        for j in range(NumOfSam):\n",
    "            path='/home/user/ModelResult/Ricker2D/'\n",
    "            prefile='%03d_%05d_0.bin'%(i,j)\n",
    "            postfile='%03d_%05d_1.bin'%(i,j)\n",
    "            prefilename=path+prefile\n",
    "            postfilename=path+postfile\n",
    "            pretemp=np.fromfile(prefilename,dtype=np.float32)\n",
    "            pretemp.shape=(M,N)\n",
    "            predata[j,:,:]=pretemp #存储着模型每个采样点前一时刻的模型瞬态\n",
    "            prenannum[i,j]=np.isnan(predata[j,:,:]).sum()\n",
    "            preinfnum[i,j]=np.isinf(predata[j,:,:]).sum()\n",
    "            posttemp=np.fromfile(postfilename,dtype=np.float32)\n",
    "            posttemp.shape=(M,N)\n",
    "            postdata[j,:,:]=posttemp #存储着模型每个采样点后一时刻的模型瞬态\n",
    "            postnannum[i,j]=np.isnan(postdata[j,:,:]).sum()\n",
    "            postinfnum[i,j]=np.isinf(postdata[j,:,:]).sum()\n",
    "    return prenannum,preinfnum,postnannum,postinfnum"
   ]
  },
  {
   "cell_type": "code",
   "execution_count": 5,
   "metadata": {},
   "outputs": [],
   "source": [
    "prenannum,preinfnum,postnannum,postinfnum=is_nan_inf()"
   ]
  },
  {
   "cell_type": "code",
   "execution_count": 15,
   "metadata": {},
   "outputs": [
    {
     "name": "stdout",
     "output_type": "stream",
     "text": [
      "[[      0.       0.       0. ...       0.       0.       0.]\n",
      " [      0.       0.       0. ...       0.       0.       0.]\n",
      " [      0.       0.       0. ...       0.       0.       0.]\n",
      " ...\n",
      " [1048576. 1048576. 1048576. ... 1048576. 1048576. 1048576.]\n",
      " [1048576. 1048576. 1048576. ... 1048576. 1048576. 1048576.]\n",
      " [1048576. 1048576. 1048576. ... 1048576. 1048576. 1048576.]]\n"
     ]
    }
   ],
   "source": [
    "print(prenannum)\n",
    "np.savetxt(\"t1\",prenannum)"
   ]
  },
  {
   "cell_type": "code",
   "execution_count": 14,
   "metadata": {},
   "outputs": [
    {
     "name": "stdout",
     "output_type": "stream",
     "text": [
      "[54 54 54 ... 73 73 73]\n",
      "[ 368  369  370 ...  998  999 1000]\n"
     ]
    }
   ],
   "source": [
    "x,y=np.where(prenannum>0)\n",
    "print(x)\n",
    "print(y)"
   ]
  }
 ],
 "metadata": {
  "kernelspec": {
   "display_name": "Python 3",
   "language": "python",
   "name": "python3"
  },
  "language_info": {
   "codemirror_mode": {
    "name": "ipython",
    "version": 3
   },
   "file_extension": ".py",
   "mimetype": "text/x-python",
   "name": "python",
   "nbconvert_exporter": "python",
   "pygments_lexer": "ipython3",
   "version": "3.7.3"
  }
 },
 "nbformat": 4,
 "nbformat_minor": 2
}

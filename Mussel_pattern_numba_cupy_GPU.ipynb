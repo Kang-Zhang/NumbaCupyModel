{
 "cells": [
  {
   "cell_type": "code",
   "execution_count": 1,
   "metadata": {},
   "outputs": [],
   "source": [
    "from numba import jit,prange,cuda #牢记prange也要导入\n",
    "import numpy as np\n",
    "import math\n",
    "import cupy"
   ]
  },
  {
   "cell_type": "code",
   "execution_count": 2,
   "metadata": {},
   "outputs": [],
   "source": [
    "@cuda.jit(device=True) #计算x方向的gradient operator\n",
    "def d_dx(MatA,p_x):\n",
    "    x,y=cuda.grid(2)\n",
    "    return (MatA[x,y]-MatA[x-1,y])/p_x\n",
    "    \n",
    "@cuda.jit(device=True) #计算y方向的gradient operator\n",
    "def d_dy(MatA,p_y):\n",
    "    x,y=cuda.grid(2)\n",
    "    return (MatA[x,y]-MatA[x,y-1])/p_y\n",
    "\n",
    "@cuda.jit(device=True) #计算laplace operator \n",
    "def d2_dxy2(MatA,p_x,p_y):\n",
    "    x,y=cuda.grid(2)\n",
    "    retval=(MatA[x-1,y]-2.0*MatA[x,y]+MatA[x+1,y])/p_x/p_x+\\\n",
    "    (MatA[x,y-1]-2.0*MatA[x,y]+MatA[x,y+1])/p_y/p_y\n",
    "    return retval\n",
    "\n",
    "@cuda.jit\n",
    "def kernel_pbc(MatA): \n",
    "    x,y=cuda.grid(2)\n",
    "    row1,col1=MatA.shape\n",
    "    if x==0:\n",
    "        MatA[x,y]=MatA[row1-2,y]\n",
    "    elif x==row1-1:\n",
    "        MatA[x,y]=MatA[1,y]\n",
    "    elif y==0:\n",
    "        MatA[x,y]=MatA[x,col1-2]\n",
    "    elif y==col1-1:\n",
    "        MatA[x,y]=MatA[x,1]\n",
    "    else:\n",
    "        MatA[x,y]=MatA[x,y]\n",
    "    \n",
    "@cuda.jit\n",
    "def kernel_ass(MatA,MatB):\n",
    "    x,y=cuda.grid(2)\n",
    "    MatA[x,y]=MatB[x,y]\n",
    "    \n",
    "@cuda.jit\n",
    "def kernel_core(MatA,MatB,p0,p1,p2,p3,p4,p5,p6,p7,p8,p9,p10,p11,p12,MatC,MatD): #dx->p10,dy->p11\n",
    "    x,y=cuda.grid(2)\n",
    "    if (x>0) and (x<MatA.shape[0]-1) and (y>0) and (y<MatA.shape[1]-1):\n",
    "        Consumption=p1*MatA[x,y]*MatB[x,y] #c->p1\n",
    "        dAdt=(p2*(p0-MatA[x,y])-Consumption/p3-p4*d_dy(MatA,p11)) #f->p2,h->p3,V->p4,Aup->p0\n",
    "        dMdt=(p5*Consumption-p6*MatB[x,y]*p7/(p7+MatB[x,y])+p8*d2_dxy2(MatB,p10,p11)) #e->p5,dM->p6,kM->p7,D->p8\n",
    "        MatC[x,y]=MatA[x,y]+dAdt*p9 #dT->p9\n",
    "        MatD[x,y]=MatB[x,y]+p12*dMdt*p9 #dT->p9,Phi->p12\n",
    "    else:\n",
    "        MatC[x,y]=MatA[x,y]\n",
    "        MatD[x,y]=MatB[x,y]"
   ]
  },
  {
   "cell_type": "code",
   "execution_count": 3,
   "metadata": {},
   "outputs": [],
   "source": [
    "def mussel_regular_pattern():\n",
    "    # Algal Exchange parameters\n",
    "    Aup      =  np.float32(1.1)       # g/m3  Algal concentration in upper layer  Oosterschelde data\n",
    "    h        =  np.float32(0.10)      # m     Height of the lower layer  defined\n",
    "    f        =  np.float32(100.0)     # m3/m3/h  Phichange rate with upper layer  Guestimated\n",
    "\n",
    "    # Mussel update, growth & mortality parameters\n",
    "    c        =  np.float32(0.1)       # g/g/h Maximal consumption rate of the mussels  Riisgard 2001 \n",
    "    e        =  np.float32(0.2)       # g/g   Trophic efficiency of mussels  Lamie\n",
    "    dM       =  np.float32(0.02)      # g/g/h Density dependent mortality rate of the mussels  Calibrated\n",
    "    kM       =  np.float32(150.0)     # g/m2  Effect of density on mortality  Guestimated\n",
    "\n",
    "    # Spatial movement parameters\n",
    "    D        =  np.float32(0.0005)    # m2/h  The diffusion constant describing the movement of mussels\n",
    "    V        =  np.float32(0.1*60*60) # m/h   Tidal advection constant(0.1 m/s * 60 sec * 60 min)\n",
    "\n",
    "    # The speeding constant Phi \n",
    "    Phi      =  np.float32(1000.0)    # Speeding constant, accelerates mussel growth\n",
    "\n",
    "    # Simulation settings \n",
    "    length   = np.float32(50.0)       # m Length of the physical landscape\n",
    "    Size     = np.int32(512)        # Size of the 2D grid\n",
    "\n",
    "    # Simulation steps\n",
    "    EndTime  = np.float32(180*24/Phi) # Total simulation time\n",
    "    #NumPlots = 100         # Number of times the figure is updated\n",
    "    dT       = np.float32(0.0002)     # Time step\n",
    "    #计算了EndTime/dT=21600步\n",
    "\n",
    "    # Precalculations\n",
    "    dx = np.float32(length/Size)      # Spatial step size\n",
    "    dy = np.float32(length/Size)      # Spatial step size\n",
    "\n",
    "    # Set CUDA parameters \n",
    "    threadsperblock=(32,32)\n",
    "    blockspergrid_x=math.ceil(Size/threadsperblock[0])\n",
    "    blockspergrid_y=math.ceil(Size/threadsperblock[1])\n",
    "    blockspergrid=(blockspergrid_x,blockspergrid_y)\n",
    "\n",
    "    # %% Defining the initial values\n",
    "    A = np.zeros((Size,Size))+Aup\n",
    "    M = (np.random.rand(Size,Size) < 0.05) * 100.0+100.0\n",
    "    A_host = A.astype(np.float32)\n",
    "    M_host = M.astype(np.float32)\n",
    "    A_device = cupy.asarray(A_host)\n",
    "    P_A_device = cupy.empty(shape=(Size,Size),dtype=np.float32)\n",
    "    M_device = cupy.asarray(M_host)\n",
    "    P_M_device = cupy.empty(shape=(Size,Size),dtype=np.float32)\n",
    "\n",
    "    for k in range(int(EndTime/dT)):\n",
    "        kernel_core[blockspergrid,threadsperblock](A_device,M_device,Aup,c,f,h,V,e,dM,kM,D,dT,dx,dy,Phi,P_A_device,P_M_device)\n",
    "        kernel_ass[blockspergrid,threadsperblock](A_device,P_A_device)\n",
    "        kernel_ass[blockspergrid,threadsperblock](M_device,P_M_device)\n",
    "        kernel_pbc[blockspergrid,threadsperblock](A_device)\n",
    "        kernel_pbc[blockspergrid,threadsperblock](M_device)\n",
    "    M=cupy.asnumpy(M_device)\n",
    "    return M"
   ]
  },
  {
   "cell_type": "code",
   "execution_count": 4,
   "metadata": {},
   "outputs": [
    {
     "data": {
      "text/plain": [
       "<Figure size 640x480 with 1 Axes>"
      ]
     },
     "metadata": {},
     "output_type": "display_data"
    }
   ],
   "source": [
    "import matplotlib.pyplot as plt\n",
    "#M=cupy.asnumpy(M_device)\n",
    "M=mussel_regular_pattern()\n",
    "#plt.contourf(M)\n",
    "#plt.show()"
   ]
  },
  {
   "cell_type": "code",
   "execution_count": 5,
   "metadata": {},
   "outputs": [
    {
     "data": {
      "image/png": "[encoded data removed]",
      "text/plain": [
       "<Figure size 432x288 with 1 Axes>"
      ]
     },
     "metadata": {
      "needs_background": "light"
     },
     "output_type": "display_data"
    }
   ],
   "source": [
    "plt.contourf(M)\n",
    "plt.show()"
   ]
  },
  {
   "cell_type": "code",
   "execution_count": 4,
   "metadata": {},
   "outputs": [
    {
     "name": "stdout",
     "output_type": "stream",
     "text": [
      "36.8 s ± 206 ms per loop (mean ± std. dev. of 7 runs, 1 loop each)\n"
     ]
    }
   ],
   "source": [
    "%timeit mussel_regular_pattern()"
   ]
  }
 ],
 "metadata": {
  "kernelspec": {
   "display_name": "Python 3",
   "language": "python",
   "name": "python3"
  },
  "language_info": {
   "codemirror_mode": {
    "name": "ipython",
    "version": 3
   },
   "file_extension": ".py",
   "mimetype": "text/x-python",
   "name": "python",
   "nbconvert_exporter": "python",
   "pygments_lexer": "ipython3",
   "version": "3.7.3"
  }
 },
 "nbformat": 4,
 "nbformat_minor": 2
}

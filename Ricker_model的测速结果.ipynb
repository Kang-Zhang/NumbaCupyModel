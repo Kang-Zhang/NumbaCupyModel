{
 "cells": [
  {
   "cell_type": "markdown",
   "metadata": {},
   "source": [
    ">测试程序：Ricker2D模型，分别存于Ricker2D_numba_CPU.ipynb、Ricker2D_normal.ipynb和Ricker2D_numba_cupy_GPU.ipynb中。\n",
    "\n",
    ">测试环境：windows10，NVIDIA Quadro P4000，python3.6，numba0.43，cupy5.3.0\n",
    "\n",
    ">测试目的：对比numba环境下（Ricker2D_numba_CPU.ipynb）与非numba环境下（Ricker2D_normal.ipynb）Rick2D模型的运行速度\n",
    "\n",
    ">测试名词：L指Ricker2D模型的空间尺寸；T指模型运行步数；非numba环境下速度用A指代；numba_CPU并行环境速度用B指代；numba与cupy支持下的GPU并行环境速度用C指代。"
   ]
  },
  {
   "cell_type": "markdown",
   "metadata": {},
   "source": [
    "测试结果：\n",
    ">1.L=512, T=1。A为3.9 s ± 143 ms，B为671 ms ± 40.3 ms，C为6.7 ms ± 772 µs。\n",
    "\n",
    ">2.L=512, T=5。A为18 s ± 837 ms，B为3.32 s ± 39.8 ms，C为18.8 ms ± 3.58 ms。\n",
    "\n",
    ">3.L=16, T=5。A为16.6 ms ± 232 µs，B为3.09 s ± 51.7 ms，C为14.2 ms ± 687 µs。"
   ]
  },
  {
   "cell_type": "markdown",
   "metadata": {},
   "source": [
    "测试结论：\n",
    ">Ricker2D模型的空间尺寸较大时（比如L=512）在numba_CPU并行环境下具备比非numba环境下5倍的速率优势，在numba_cupy_GPU并行环境下具备比非numba环境下500倍的速率优势。而Ricker2D模型的空间尺寸较小时（比如L=16）在numba_CPU并行环境下具备比非numba环境下极大的速度劣势，速率放缓了193倍，在numba_cupy_GPU并行环境下与非numba环境下相比几乎没有速率优势。\n",
    "\n",
    ">因此，模型空间尺寸较大时使用numba_cupy_GPU并行环境具有优势。而在模型空间尺寸较小时numba_CPU环境会导致速率极慢，同时numba_cupy_GPU并行环境也没有什么速率优势。\n",
    "\n",
    ">上述现象的原因猜测：numba的装饰器编译函数需要时间，特别是@stencil装饰器编译可能需要大量时间，因而空间尺寸越大越可以分摊@stencil装饰器编译的开销。而numba_cupy_GPU并行环境由于CPU和GPU之间的通信需要固定的时间成本，所以空间尺寸越大，这个固定的时间成本越可以被分摊。\n",
    "\n",
    ">但是这依然不能完全解释这一现象，特别是**较小模型尺寸时在numba_CPU并行环境下的速率之慢**让我十分惊诧，希望以后能找到原因。"
   ]
  }
 ],
 "metadata": {
  "kernelspec": {
   "display_name": "Python 3",
   "language": "python",
   "name": "python3"
  },
  "language_info": {
   "codemirror_mode": {
    "name": "ipython",
    "version": 3
   },
   "file_extension": ".py",
   "mimetype": "text/x-python",
   "name": "python",
   "nbconvert_exporter": "python",
   "pygments_lexer": "ipython3",
   "version": "3.6.8"
  }
 },
 "nbformat": 4,
 "nbformat_minor": 2
}
